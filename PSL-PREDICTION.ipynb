{
 "cells": [
  {
   "cell_type": "code",
   "execution_count": 8,
   "id": "ba4b2647",
   "metadata": {},
   "outputs": [
    {
     "name": "stdout",
     "output_type": "stream",
     "text": [
      "Index(['Rk', 'Pts/MP', 'GF/GA', 'Win Rate', 'Draw Rate', 'Lose Rate'], dtype='object')\n"
     ]
    },
    {
     "data": {
      "text/html": [
       "<div>\n",
       "<style scoped>\n",
       "    .dataframe tbody tr th:only-of-type {\n",
       "        vertical-align: middle;\n",
       "    }\n",
       "\n",
       "    .dataframe tbody tr th {\n",
       "        vertical-align: top;\n",
       "    }\n",
       "\n",
       "    .dataframe thead th {\n",
       "        text-align: right;\n",
       "    }\n",
       "</style>\n",
       "<table border=\"1\" class=\"dataframe\">\n",
       "  <thead>\n",
       "    <tr style=\"text-align: right;\">\n",
       "      <th></th>\n",
       "      <th>Rk</th>\n",
       "      <th>Pts/MP</th>\n",
       "      <th>GF/GA</th>\n",
       "      <th>Win Rate</th>\n",
       "      <th>Draw Rate</th>\n",
       "      <th>Lose Rate</th>\n",
       "    </tr>\n",
       "  </thead>\n",
       "  <tbody>\n",
       "    <tr>\n",
       "      <th>100</th>\n",
       "      <td>C</td>\n",
       "      <td>1.60</td>\n",
       "      <td>1.45</td>\n",
       "      <td>0.40</td>\n",
       "      <td>0.40</td>\n",
       "      <td>0.20</td>\n",
       "    </tr>\n",
       "    <tr>\n",
       "      <th>132</th>\n",
       "      <td>C</td>\n",
       "      <td>1.47</td>\n",
       "      <td>0.97</td>\n",
       "      <td>0.40</td>\n",
       "      <td>0.27</td>\n",
       "      <td>0.33</td>\n",
       "    </tr>\n",
       "    <tr>\n",
       "      <th>86</th>\n",
       "      <td>D</td>\n",
       "      <td>1.30</td>\n",
       "      <td>1.00</td>\n",
       "      <td>0.30</td>\n",
       "      <td>0.40</td>\n",
       "      <td>0.30</td>\n",
       "    </tr>\n",
       "    <tr>\n",
       "      <th>24</th>\n",
       "      <td>E</td>\n",
       "      <td>1.33</td>\n",
       "      <td>0.88</td>\n",
       "      <td>0.30</td>\n",
       "      <td>0.43</td>\n",
       "      <td>0.27</td>\n",
       "    </tr>\n",
       "    <tr>\n",
       "      <th>110</th>\n",
       "      <td>H</td>\n",
       "      <td>0.93</td>\n",
       "      <td>0.60</td>\n",
       "      <td>0.17</td>\n",
       "      <td>0.43</td>\n",
       "      <td>0.40</td>\n",
       "    </tr>\n",
       "  </tbody>\n",
       "</table>\n",
       "</div>"
      ],
      "text/plain": [
       "    Rk  Pts/MP  GF/GA  Win Rate  Draw Rate  Lose Rate\n",
       "100  C    1.60   1.45      0.40       0.40       0.20\n",
       "132  C    1.47   0.97      0.40       0.27       0.33\n",
       "86   D    1.30   1.00      0.30       0.40       0.30\n",
       "24   E    1.33   0.88      0.30       0.43       0.27\n",
       "110  H    0.93   0.60      0.17       0.43       0.40"
      ]
     },
     "execution_count": 8,
     "metadata": {},
     "output_type": "execute_result"
    }
   ],
   "source": [
    "import pandas as pd\n",
    "import numpy as np\n",
    "from sklearn.model_selection import train_test_split\n",
    "from sklearn.metrics import classification_report\n",
    "import matplotlib.pyplot as plt \n",
    "\n",
    "df = pd.read_csv(\"datasets/PSL-DATA.csv\")\n",
    "\n",
    "df = df.sample(frac=1)\n",
    "\n",
    "# dropping the columns we will not be using\n",
    "df = df.drop('MP' , axis = 1) \n",
    "df = df.drop('W' , axis = 1) \n",
    "df = df.drop('L' , axis = 1)\n",
    "df = df.drop('D' , axis = 1)\n",
    "df = df.drop('GF' , axis = 1) \n",
    "df = df.drop('GD' , axis = 1) \n",
    "df = df.drop('GA' , axis = 1) \n",
    "df = df.drop('Pts' , axis = 1) \n",
    "\n",
    "\n",
    "# # clustering data with a similar rank\n",
    "# df.loc[df['Rk'].between(1, 2, 'both'), 'grade'] = 'A'\n",
    "# df.loc[df['Rk'].between(3, 4, 'right'), 'grade'] = 'B'\n",
    "# df.loc[df['Rk'].between(5, 6, 'right'), 'grade'] = 'C'\n",
    "# df.loc[df['Rk'].between(12, 16, 'right'), 'grade'] = 'D'\n",
    "# df.loc[df['Rk'].between(16, 20, 'right'), 'grade'] = 'E'\n",
    "# df.loc[df['Rk'].between(16, 20, 'right'), 'grade'] = 'E'\n",
    "\n",
    "# #factorize team names\n",
    "# df['Rk']=df['Rk'].replace({1: \"A\" ,'2': \"A\", '3':\"B\" , '4':\"B\" , '5':\"C\" , '6': \"C\" , '7':\"D\" , '8': \"D\" , '9': \"E\"  , '10':\"E\" ,\n",
    "#                           '11': \"F\" , '12': \"F\" , '13':\"G\" , '14': \"G\" , '15': \"H\" , '16': \"H\" })\n",
    "\n",
    "# df = df.drop('Rk' , axis = 1)\n",
    "\n",
    "X = df.drop('Rk' , axis = 1)\n",
    "\n",
    "y = df['Rk']\n",
    "\n",
    "# features = ['GF', 'GA', 'GD', 'Pts', 'Pts/MP', 'xG', 'xGA', 'xGD', 'xGD/90',\n",
    "#        'WinRate', 'DrawRate']\n",
    "\n",
    "print(df.columns)\n",
    "\n",
    "X_train , X_test , y_train , y_test = train_test_split(X , y , test_size=0.2)\n",
    "\n",
    "df.head()\n"
   ]
  },
  {
   "cell_type": "code",
   "execution_count": 9,
   "id": "2c1638d4",
   "metadata": {},
   "outputs": [
    {
     "name": "stdout",
     "output_type": "stream",
     "text": [
      "              precision    recall  f1-score   support\n",
      "\n",
      "           A       0.80      1.00      0.89         4\n",
      "           B       1.00      0.56      0.71         9\n",
      "           C       0.00      0.00      0.00         1\n",
      "           D       0.67      0.67      0.67         3\n",
      "           E       0.75      1.00      0.86         3\n",
      "           F       1.00      0.50      0.67         2\n",
      "           G       0.75      1.00      0.86         3\n",
      "           H       1.00      1.00      1.00         4\n",
      "\n",
      "    accuracy                           0.76        29\n",
      "   macro avg       0.75      0.72      0.71        29\n",
      "weighted avg       0.85      0.76      0.77        29\n",
      "\n"
     ]
    }
   ],
   "source": [
    "from sklearn import neighbors\n",
    "import matplotlib.pyplot as plt \n",
    "\n",
    "X_train , X_test , y_train , y_test = train_test_split(X , y , test_size=0.2)\n",
    "\n",
    "knn = neighbors.KNeighborsClassifier(n_neighbors=3)\n",
    "\n",
    "knn.fit(X_train , y_train)\n",
    "\n",
    "knn_pred = knn.predict(X_test)\n",
    "\n",
    "\n",
    "print(classification_report(knn_pred , y_test))\n",
    "\n",
    "# print(knn.score(X_test , y_test))"
   ]
  },
  {
   "cell_type": "code",
   "execution_count": 10,
   "id": "5c3b2a26",
   "metadata": {},
   "outputs": [
    {
     "data": {
      "text/plain": [
       "Text(0.5, 1.0, 'K Neighbors Classifier scores for different K values')"
      ]
     },
     "execution_count": 10,
     "metadata": {},
     "output_type": "execute_result"
    },
    {
     "data": {
      "image/png": "[encoded data removed]",
      "text/plain": [
       "<Figure size 432x288 with 1 Axes>"
      ]
     },
     "metadata": {
      "needs_background": "light"
     },
     "output_type": "display_data"
    }
   ],
   "source": [
    "#using less features\n",
    "from sklearn import neighbors\n",
    "import matplotlib.pyplot as plt \n",
    "\n",
    "knn_scores = []\n",
    "for k in range(1,21):\n",
    "    knn_classifier = neighbors.KNeighborsClassifier(n_neighbors = k)\n",
    "    knn_classifier.fit(X_train, y_train)\n",
    "    knn_scores.append(knn_classifier.score(X_test, y_test))\n",
    "\n",
    "some_list = [round(x , 2) for x in knn_scores]\n",
    "\n",
    "plt.plot([k for k in range(1, 21)], knn_scores, color = 'red')\n",
    "# for i in range(1,21):\n",
    "#     plt.text(i, some_list[i-1], (i, some_list[i-1]))\n",
    "plt.xticks([i for i in range(1, 21)])\n",
    "plt.xlabel('Number of Neighbors (K)')\n",
    "plt.ylabel('Scores')\n",
    "plt.title('K Neighbors Classifier scores for different K values')"
   ]
  },
  {
   "cell_type": "code",
   "execution_count": 11,
   "id": "6a428b18",
   "metadata": {},
   "outputs": [
    {
     "name": "stdout",
     "output_type": "stream",
     "text": [
      "0.7931034482758621\n",
      "              precision    recall  f1-score   support\n",
      "\n",
      "           A       1.00      1.00      1.00         5\n",
      "           B       0.83      1.00      0.91         5\n",
      "           C       1.00      0.67      0.80         3\n",
      "           D       1.00      0.33      0.50         3\n",
      "           E       0.60      0.75      0.67         4\n",
      "           F       1.00      1.00      1.00         1\n",
      "           G       0.67      0.50      0.57         4\n",
      "           H       0.67      1.00      0.80         4\n",
      "\n",
      "    accuracy                           0.79        29\n",
      "   macro avg       0.85      0.78      0.78        29\n",
      "weighted avg       0.82      0.79      0.78        29\n",
      "\n"
     ]
    },
    {
     "ename": "NameError",
     "evalue": "name 'features' is not defined",
     "output_type": "error",
     "traceback": [
      "\u001b[1;31m---------------------------------------------------------------------------\u001b[0m",
      "\u001b[1;31mNameError\u001b[0m                                 Traceback (most recent call last)",
      "Input \u001b[1;32mIn [11]\u001b[0m, in \u001b[0;36m<cell line: 13>\u001b[1;34m()\u001b[0m\n\u001b[0;32m      9\u001b[0m \u001b[38;5;28mprint\u001b[39m(model\u001b[38;5;241m.\u001b[39mscore(X_test ,y_test))\n\u001b[0;32m     11\u001b[0m \u001b[38;5;28mprint\u001b[39m(classification_report(y_test , y_pred))\n\u001b[1;32m---> 13\u001b[0m feature_imp \u001b[38;5;241m=\u001b[39m pd\u001b[38;5;241m.\u001b[39mSeries(model\u001b[38;5;241m.\u001b[39mfeature_importances_,index\u001b[38;5;241m=\u001b[39m\u001b[43mfeatures\u001b[49m)\u001b[38;5;241m.\u001b[39msort_values(ascending\u001b[38;5;241m=\u001b[39m\u001b[38;5;28;01mFalse\u001b[39;00m)\n\u001b[0;32m     15\u001b[0m fig \u001b[38;5;241m=\u001b[39m plt\u001b[38;5;241m.\u001b[39mfigure()\n\u001b[0;32m     16\u001b[0m ax \u001b[38;5;241m=\u001b[39m fig\u001b[38;5;241m.\u001b[39madd_axes([\u001b[38;5;241m0\u001b[39m,\u001b[38;5;241m0\u001b[39m,\u001b[38;5;241m1\u001b[39m,\u001b[38;5;241m1\u001b[39m])\n",
      "\u001b[1;31mNameError\u001b[0m: name 'features' is not defined"
     ]
    }
   ],
   "source": [
    "from sklearn.ensemble import RandomForestClassifier\n",
    "\n",
    "model = RandomForestClassifier(n_estimators=100)\n",
    "\n",
    "model.fit(X_train , y_train)\n",
    "\n",
    "y_pred = model.predict(X_test)\n",
    "\n",
    "print(model.score(X_test ,y_test))\n",
    "\n",
    "print(classification_report(y_test , y_pred))\n",
    "\n",
    "feature_imp = pd.Series(model.feature_importances_,index=features).sort_values(ascending=False)\n",
    "\n",
    "fig = plt.figure()\n",
    "ax = fig.add_axes([0,0,1,1])\n",
    "ax.barh(features , feature_imp)\n",
    "plt.show()"
   ]
  },
  {
   "cell_type": "code",
   "execution_count": 18,
   "id": "fedcbc63",
   "metadata": {},
   "outputs": [
    {
     "name": "stdout",
     "output_type": "stream",
     "text": [
      "['A' 'B' 'B' 'B' 'E' 'E' 'A' 'A' 'D' 'A' 'G' 'C' 'H' 'G' 'H' 'H']\n"
     ]
    },
    {
     "name": "stderr",
     "output_type": "stream",
     "text": [
      "c:\\users\\administrator\\appdata\\local\\programs\\python\\python38\\lib\\site-packages\\sklearn\\base.py:450: UserWarning: X does not have valid feature names, but KNeighborsClassifier was fitted with feature names\n",
      "  warnings.warn(\n"
     ]
    }
   ],
   "source": [
    "from numpy import loadtxt\n",
    "dataset = loadtxt(\"datasets/PSL-DATA-NEW.csv\", delimiter=',')\n",
    "\n",
    "X_new = dataset[:,0:5]\n",
    "\n",
    "y_new = knn.predict(X_new)\n",
    "# y_new = neigh.predict(X_new)\n",
    "# y_new = ridge_model.predict(X_new)\n",
    "\n",
    "print(y_new)\n"
   ]
  },
  {
   "cell_type": "code",
   "execution_count": null,
   "id": "9d5464f8",
   "metadata": {},
   "outputs": [],
   "source": []
  }
 ],
 "metadata": {
  "kernelspec": {
   "display_name": "Python 3 (ipykernel)",
   "language": "python",
   "name": "python3"
  },
  "language_info": {
   "codemirror_mode": {
    "name": "ipython",
    "version": 3
   },
   "file_extension": ".py",
   "mimetype": "text/x-python",
   "name": "python",
   "nbconvert_exporter": "python",
   "pygments_lexer": "ipython3",
   "version": "3.8.6"
  }
 },
 "nbformat": 4,
 "nbformat_minor": 5
}
